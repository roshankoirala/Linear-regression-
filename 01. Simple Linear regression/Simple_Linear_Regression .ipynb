{
 "cells": [
  {
   "cell_type": "markdown",
   "metadata": {},
   "source": [
    "# Introduction \n",
    "\n",
    "In simple linear regression we are given set of variables \n",
    "\n",
    "$$ X, y = {(x_1, y_1), (x_2, y_2), ... ... ... (x_N, y_N)} $$\n",
    "\n",
    "Our task is to predict the values of y given set of values X for some unknown x's. For this we fit the model where both X and y are given and use it to predict known X and unknown y. "
   ]
  },
  {
   "cell_type": "markdown",
   "metadata": {},
   "source": [
    "# Importing packages "
   ]
  },
  {
   "cell_type": "code",
   "execution_count": 1,
   "metadata": {},
   "outputs": [],
   "source": [
    "import numpy as np                # For linear algebra \n",
    "import pandas as pd               # For DataFrame object in python \n",
    "import matplotlib.pyplot as plt   # For visualization \n",
    "%matplotlib inline"
   ]
  },
  {
   "cell_type": "markdown",
   "metadata": {},
   "source": [
    "# Importing data in pandas "
   ]
  },
  {
   "cell_type": "code",
   "execution_count": 2,
   "metadata": {},
   "outputs": [],
   "source": [
    "# Importing data frame in pandas.\n",
    "# The data had no header. So header is created. \n",
    "\n",
    "df = pd.read_csv('ex1data1.txt', header = None, names = ['populations', 'profit'])"
   ]
  },
  {
   "cell_type": "code",
   "execution_count": 3,
   "metadata": {},
   "outputs": [
    {
     "data": {
      "text/html": [
       "<div>\n",
       "<style scoped>\n",
       "    .dataframe tbody tr th:only-of-type {\n",
       "        vertical-align: middle;\n",
       "    }\n",
       "\n",
       "    .dataframe tbody tr th {\n",
       "        vertical-align: top;\n",
       "    }\n",
       "\n",
       "    .dataframe thead th {\n",
       "        text-align: right;\n",
       "    }\n",
       "</style>\n",
       "<table border=\"1\" class=\"dataframe\">\n",
       "  <thead>\n",
       "    <tr style=\"text-align: right;\">\n",
       "      <th></th>\n",
       "      <th>populations</th>\n",
       "      <th>profit</th>\n",
       "    </tr>\n",
       "  </thead>\n",
       "  <tbody>\n",
       "    <tr>\n",
       "      <th>0</th>\n",
       "      <td>6.1101</td>\n",
       "      <td>17.5920</td>\n",
       "    </tr>\n",
       "    <tr>\n",
       "      <th>1</th>\n",
       "      <td>5.5277</td>\n",
       "      <td>9.1302</td>\n",
       "    </tr>\n",
       "    <tr>\n",
       "      <th>2</th>\n",
       "      <td>8.5186</td>\n",
       "      <td>13.6620</td>\n",
       "    </tr>\n",
       "    <tr>\n",
       "      <th>3</th>\n",
       "      <td>7.0032</td>\n",
       "      <td>11.8540</td>\n",
       "    </tr>\n",
       "    <tr>\n",
       "      <th>4</th>\n",
       "      <td>5.8598</td>\n",
       "      <td>6.8233</td>\n",
       "    </tr>\n",
       "  </tbody>\n",
       "</table>\n",
       "</div>"
      ],
      "text/plain": [
       "   populations   profit\n",
       "0       6.1101  17.5920\n",
       "1       5.5277   9.1302\n",
       "2       8.5186  13.6620\n",
       "3       7.0032  11.8540\n",
       "4       5.8598   6.8233"
      ]
     },
     "execution_count": 3,
     "metadata": {},
     "output_type": "execute_result"
    }
   ],
   "source": [
    "# head() gives top five rows of the dataframe.\n",
    "\n",
    "df.head()"
   ]
  },
  {
   "cell_type": "code",
   "execution_count": 4,
   "metadata": {},
   "outputs": [
    {
     "data": {
      "text/html": [
       "<div>\n",
       "<style scoped>\n",
       "    .dataframe tbody tr th:only-of-type {\n",
       "        vertical-align: middle;\n",
       "    }\n",
       "\n",
       "    .dataframe tbody tr th {\n",
       "        vertical-align: top;\n",
       "    }\n",
       "\n",
       "    .dataframe thead th {\n",
       "        text-align: right;\n",
       "    }\n",
       "</style>\n",
       "<table border=\"1\" class=\"dataframe\">\n",
       "  <thead>\n",
       "    <tr style=\"text-align: right;\">\n",
       "      <th></th>\n",
       "      <th>populations</th>\n",
       "      <th>profit</th>\n",
       "    </tr>\n",
       "  </thead>\n",
       "  <tbody>\n",
       "    <tr>\n",
       "      <th>94</th>\n",
       "      <td>8.2934</td>\n",
       "      <td>0.14454</td>\n",
       "    </tr>\n",
       "    <tr>\n",
       "      <th>95</th>\n",
       "      <td>13.3940</td>\n",
       "      <td>9.05510</td>\n",
       "    </tr>\n",
       "    <tr>\n",
       "      <th>96</th>\n",
       "      <td>5.4369</td>\n",
       "      <td>0.61705</td>\n",
       "    </tr>\n",
       "  </tbody>\n",
       "</table>\n",
       "</div>"
      ],
      "text/plain": [
       "    populations   profit\n",
       "94       8.2934  0.14454\n",
       "95      13.3940  9.05510\n",
       "96       5.4369  0.61705"
      ]
     },
     "execution_count": 4,
     "metadata": {},
     "output_type": "execute_result"
    }
   ],
   "source": [
    "# tail() gives the bottom five. \n",
    "# The number of rows can be controlled by passing an integer in head() and tail()\n",
    "\n",
    "df.tail(3)"
   ]
  },
  {
   "cell_type": "code",
   "execution_count": 5,
   "metadata": {},
   "outputs": [
    {
     "data": {
      "text/html": [
       "<div>\n",
       "<style scoped>\n",
       "    .dataframe tbody tr th:only-of-type {\n",
       "        vertical-align: middle;\n",
       "    }\n",
       "\n",
       "    .dataframe tbody tr th {\n",
       "        vertical-align: top;\n",
       "    }\n",
       "\n",
       "    .dataframe thead th {\n",
       "        text-align: right;\n",
       "    }\n",
       "</style>\n",
       "<table border=\"1\" class=\"dataframe\">\n",
       "  <thead>\n",
       "    <tr style=\"text-align: right;\">\n",
       "      <th></th>\n",
       "      <th>populations</th>\n",
       "      <th>profit</th>\n",
       "    </tr>\n",
       "  </thead>\n",
       "  <tbody>\n",
       "    <tr>\n",
       "      <th>7</th>\n",
       "      <td>8.5781</td>\n",
       "      <td>12.00000</td>\n",
       "    </tr>\n",
       "    <tr>\n",
       "      <th>32</th>\n",
       "      <td>9.2482</td>\n",
       "      <td>12.13400</td>\n",
       "    </tr>\n",
       "    <tr>\n",
       "      <th>56</th>\n",
       "      <td>6.2742</td>\n",
       "      <td>2.47560</td>\n",
       "    </tr>\n",
       "    <tr>\n",
       "      <th>38</th>\n",
       "      <td>12.8360</td>\n",
       "      <td>10.11700</td>\n",
       "    </tr>\n",
       "    <tr>\n",
       "      <th>39</th>\n",
       "      <td>6.3534</td>\n",
       "      <td>5.49740</td>\n",
       "    </tr>\n",
       "    <tr>\n",
       "      <th>17</th>\n",
       "      <td>5.1301</td>\n",
       "      <td>0.56077</td>\n",
       "    </tr>\n",
       "    <tr>\n",
       "      <th>61</th>\n",
       "      <td>5.1793</td>\n",
       "      <td>-0.74279</td>\n",
       "    </tr>\n",
       "  </tbody>\n",
       "</table>\n",
       "</div>"
      ],
      "text/plain": [
       "    populations    profit\n",
       "7        8.5781  12.00000\n",
       "32       9.2482  12.13400\n",
       "56       6.2742   2.47560\n",
       "38      12.8360  10.11700\n",
       "39       6.3534   5.49740\n",
       "17       5.1301   0.56077\n",
       "61       5.1793  -0.74279"
      ]
     },
     "execution_count": 5,
     "metadata": {},
     "output_type": "execute_result"
    }
   ],
   "source": [
    "# Sample gives random five elements. \n",
    "# Here again we can control the number of element by passing element. \n",
    "\n",
    "df.sample(7)"
   ]
  },
  {
   "cell_type": "markdown",
   "metadata": {},
   "source": [
    "# Plotting the data \n",
    "\n",
    "Two dimensional plot of X vs y is called the scatter plot. It gives the visualization representation of the relation between variables. It is possible to make this type of plot in case of linear regression where there are two variables and they accomodate in 2D plane. But the same is not true in multiple linear regression where p-features + y need p+1 dimensional space to make such a plot. "
   ]
  },
  {
   "cell_type": "code",
   "execution_count": 6,
   "metadata": {},
   "outputs": [],
   "source": [
    "X = df[['populations']]            # X as a pandas DataFrame\n",
    "y = df['profit']                   # y as a pandas Series \n",
    "m = len(y)                         # m is the number of features "
   ]
  },
  {
   "cell_type": "code",
   "execution_count": 7,
   "metadata": {},
   "outputs": [
    {
     "name": "stdout",
     "output_type": "stream",
     "text": [
      "<class 'pandas.core.frame.DataFrame'>\n",
      "<class 'pandas.core.series.Series'>\n"
     ]
    }
   ],
   "source": [
    "print(type(X))\n",
    "print(type(y))"
   ]
  },
  {
   "cell_type": "code",
   "execution_count": 8,
   "metadata": {},
   "outputs": [
    {
     "name": "stdout",
     "output_type": "stream",
     "text": [
      "(97, 1)\n",
      "(97,)\n"
     ]
    }
   ],
   "source": [
    "print(np.shape(X))\n",
    "print(np.shape(y))"
   ]
  },
  {
   "cell_type": "code",
   "execution_count": 9,
   "metadata": {},
   "outputs": [
    {
     "data": {
      "image/png": "[encoded data removed]",
      "text/plain": [
       "<Figure size 576x432 with 1 Axes>"
      ]
     },
     "metadata": {},
     "output_type": "display_data"
    }
   ],
   "source": [
    "# Initiate the figure and control the size.\n",
    "plt.figure(figsize = (8, 6))\n",
    "\n",
    "# Define X and Y. \n",
    "# Define color and marker.\n",
    "# Define marker size.\n",
    "plt.plot(df['populations'], df['profit'], 'rx', markersize = 12)\n",
    "\n",
    "# Define X and Y label.\n",
    "plt.xlabel('Population of cities in 10,000s')\n",
    "plt.ylabel('Profit in $10,000s')\n",
    "\n",
    "# Define title \n",
    "plt.title('scatter plot')\n",
    "plt.show()"
   ]
  },
  {
   "cell_type": "markdown",
   "metadata": {},
   "source": [
    "# Cost function \n",
    "\n",
    "The line of best fit for y given X takes the following form: \n",
    "\n",
    "$$ y = \\theta_0 + \\theta_1 X $$\n",
    "\n",
    "Where, for unknown y, it is usually called a hypothesis. \n",
    "\n",
    "$$ y_{pred} = h (X, \\theta) $$\n",
    "\n",
    "For the training set the difference of the prediction by the hypothesis h and y is called the residue error. The sum of square of residue of each data point in training set is called cost function. Which loos like this: \n",
    "\n",
    "$$ J(X, y, \\theta) = \\frac{1}{2m} \\sum_{i = 1}^m \\left(h(X^{(i)}, \\theta) - y^{(i)}\\right)^2  $$"
   ]
  },
  {
   "cell_type": "code",
   "execution_count": 10,
   "metadata": {},
   "outputs": [
    {
     "data": {
      "text/plain": [
       "array([0., 0.])"
      ]
     },
     "execution_count": 10,
     "metadata": {},
     "output_type": "execute_result"
    }
   ],
   "source": [
    "theta = np.zeros(2)            # Initial guess of theta to initiate the gradient descent. \n",
    "theta"
   ]
  },
  {
   "cell_type": "code",
   "execution_count": 11,
   "metadata": {},
   "outputs": [
    {
     "data": {
      "text/html": [
       "<div>\n",
       "<style scoped>\n",
       "    .dataframe tbody tr th:only-of-type {\n",
       "        vertical-align: middle;\n",
       "    }\n",
       "\n",
       "    .dataframe tbody tr th {\n",
       "        vertical-align: top;\n",
       "    }\n",
       "\n",
       "    .dataframe thead th {\n",
       "        text-align: right;\n",
       "    }\n",
       "</style>\n",
       "<table border=\"1\" class=\"dataframe\">\n",
       "  <thead>\n",
       "    <tr style=\"text-align: right;\">\n",
       "      <th></th>\n",
       "      <th>Bias</th>\n",
       "      <th>populations</th>\n",
       "    </tr>\n",
       "  </thead>\n",
       "  <tbody>\n",
       "    <tr>\n",
       "      <th>0</th>\n",
       "      <td>1</td>\n",
       "      <td>6.1101</td>\n",
       "    </tr>\n",
       "    <tr>\n",
       "      <th>1</th>\n",
       "      <td>1</td>\n",
       "      <td>5.5277</td>\n",
       "    </tr>\n",
       "    <tr>\n",
       "      <th>2</th>\n",
       "      <td>1</td>\n",
       "      <td>8.5186</td>\n",
       "    </tr>\n",
       "    <tr>\n",
       "      <th>3</th>\n",
       "      <td>1</td>\n",
       "      <td>7.0032</td>\n",
       "    </tr>\n",
       "    <tr>\n",
       "      <th>4</th>\n",
       "      <td>1</td>\n",
       "      <td>5.8598</td>\n",
       "    </tr>\n",
       "  </tbody>\n",
       "</table>\n",
       "</div>"
      ],
      "text/plain": [
       "   Bias  populations\n",
       "0     1       6.1101\n",
       "1     1       5.5277\n",
       "2     1       8.5186\n",
       "3     1       7.0032\n",
       "4     1       5.8598"
      ]
     },
     "execution_count": 11,
     "metadata": {},
     "output_type": "execute_result"
    }
   ],
   "source": [
    "X.insert(0, 'Bias', 1)        # Inserting the bias element on column \n",
    "\n",
    "X.head()"
   ]
  },
  {
   "cell_type": "code",
   "execution_count": 12,
   "metadata": {},
   "outputs": [],
   "source": [
    "def hypothesis(theta, X):\n",
    "    '''\n",
    "    This function gives the hypothesis for the linear regression.\n",
    "    theta is a vectorized fit parameter. \n",
    "    X is a vectorized feature vector. \n",
    "    '''\n",
    "    return np.dot(X, theta)"
   ]
  },
  {
   "cell_type": "code",
   "execution_count": 13,
   "metadata": {},
   "outputs": [],
   "source": [
    "# doc string are helpful when asked with python about the function. \n",
    "\n",
    "?hypothesis"
   ]
  },
  {
   "cell_type": "code",
   "execution_count": 14,
   "metadata": {},
   "outputs": [
    {
     "data": {
      "text/plain": [
       "array([0., 0., 0., 0., 0., 0., 0., 0., 0., 0., 0., 0., 0., 0., 0., 0., 0.,\n",
       "       0., 0., 0., 0., 0., 0., 0., 0., 0., 0., 0., 0., 0., 0., 0., 0., 0.,\n",
       "       0., 0., 0., 0., 0., 0., 0., 0., 0., 0., 0., 0., 0., 0., 0., 0., 0.,\n",
       "       0., 0., 0., 0., 0., 0., 0., 0., 0., 0., 0., 0., 0., 0., 0., 0., 0.,\n",
       "       0., 0., 0., 0., 0., 0., 0., 0., 0., 0., 0., 0., 0., 0., 0., 0., 0.,\n",
       "       0., 0., 0., 0., 0., 0., 0., 0., 0., 0., 0., 0.])"
      ]
     },
     "execution_count": 14,
     "metadata": {},
     "output_type": "execute_result"
    }
   ],
   "source": [
    "# Initially hypothesis is all zero. \n",
    "# This will be updated later recursively. \n",
    "\n",
    "hypothesis(theta, X)"
   ]
  },
  {
   "cell_type": "code",
   "execution_count": 15,
   "metadata": {},
   "outputs": [],
   "source": [
    "def cost_function(theta, X, y):\n",
    "    '''\n",
    "    This is the cost function for the simple linear regression function. \n",
    "    X is a vectorized fit parameters.\n",
    "    X is a feature matrix. \n",
    "    y is a response vector. \n",
    "    '''\n",
    "    return 1/(2 * m) * np.sum((hypothesis(theta, X) - y) ** 2)"
   ]
  },
  {
   "cell_type": "code",
   "execution_count": 16,
   "metadata": {},
   "outputs": [
    {
     "data": {
      "text/plain": [
       "32.072733877455676"
      ]
     },
     "execution_count": 16,
     "metadata": {},
     "output_type": "execute_result"
    }
   ],
   "source": [
    "cost_function(theta, X, y)"
   ]
  },
  {
   "cell_type": "markdown",
   "metadata": {},
   "source": [
    "# Solving by normal equation\n",
    "\n",
    "Our aim is to choose such a pair of $\\theta$'s in hypothesis, such that cost function $J(X, y, \\theta)$ is minimized. In calculus minimum is given by following conditions: \n",
    "\n",
    "$$ \\frac{\\partial J}{\\partial \\theta} = 0  \\quad and \\quad \\frac{\\partial^2 J}{\\partial \\theta^2} > 0   $$\n",
    "\n",
    "This condition when applied to the cost function gives us the normal equations for the linear regression. \n",
    "\n",
    "$$ \\theta = (X^T X)^{-1} (X^Ty) $$"
   ]
  },
  {
   "cell_type": "code",
   "execution_count": 17,
   "metadata": {},
   "outputs": [
    {
     "data": {
      "text/plain": [
       "array([-3.89578088,  1.19303364])"
      ]
     },
     "execution_count": 17,
     "metadata": {},
     "output_type": "execute_result"
    }
   ],
   "source": [
    "X_mat = X.values                                    # Converting X to numpy array\n",
    "X_T = X_mat.transpose()                             # Transpose of X. $X^T$\n",
    "\n",
    "XT_X_inv = np.linalg.inv(np.matmul(X_T, X_mat))     # Inverse of matric product of X and X^T -> (X*X^T)^-1\n",
    "XT_y = np.matmul(X_T, y)                            # Product of X^T and y\n",
    "\n",
    "np.matmul(XT_X_inv, XT_y)                           # Final theta "
   ]
  },
  {
   "cell_type": "markdown",
   "metadata": {},
   "source": [
    "These are the values of $\\theta_0$ and $\\theta_1$. \n",
    "\n",
    "\n",
    "# Gradient descent\n",
    "\n",
    "Although the use of normal equation gives the perfect solution it has certain limitations. First, they are slow for large data set. They might not necessarily exist for the algorithm other than linear regression. So, here comes the gradient descent. \n",
    "\n",
    "In calculus, gradient is the direction of the maximum increase of a function. So, negative of the gradient is direction of maximum decrease of the function. By gradient we mean the following two functions: \n",
    "\n",
    "$$ \\frac{\\partial J}{\\partial \\theta_0} \\quad and \\quad \\frac{\\partial J}{\\partial \\theta_1}   $$\n",
    "\n",
    "\n",
    "Hence the following recursion give eventually leads to the local minima (for well defined cost function there is only global minima):\n",
    "\n",
    "$$ \\theta_0 = \\theta_0 - \\alpha \\frac{\\partial J}{\\partial \\theta_0} $$\n",
    ".\n",
    "\n",
    "$$ \\theta_1 = \\theta_1 - \\alpha \\frac{\\partial J}{\\partial \\theta_1} $$\n",
    "\n",
    "\n",
    "If we substitute the expression of the cost function in the above relations we arrive at the following pair of expressions. \n",
    "\n",
    "$$ \\theta_0 = \\theta_0 - \\frac{\\alpha}{m} \\sum_{i = 1}^m \\left(h(X^{(i)}, \\theta) - y^{(i)}\\right) $$\n",
    ".\n",
    "\n",
    "$$ \\theta_1 = \\theta_1 - \\frac{\\alpha}{m} \\sum_{i = 1}^m \\left(h(X^{(i)}, \\theta) - y^{(i)}\\right) X^{i} $$"
   ]
  },
  {
   "cell_type": "code",
   "execution_count": 18,
   "metadata": {},
   "outputs": [],
   "source": [
    "iterations = 2000      # Numer of iterations for gradient descent. \n",
    "alpha = 0.01           # Learnig rate \n",
    "\n",
    "# These two quantities have to be chosen carefully and to be learned by looking \n",
    "# at the performance of the model on different parameters. "
   ]
  },
  {
   "cell_type": "code",
   "execution_count": 19,
   "metadata": {},
   "outputs": [],
   "source": [
    "def gradient(theta, X, y):\n",
    "    '''\n",
    "    This function defines the gradient of a (p + 1)-dimensional hypersurface spanned \n",
    "    by p number of features and a bias. \n",
    "    theta is vectorized fit parameters. \n",
    "    X is a feature matrix.\n",
    "    y is a response vector. \n",
    "    '''\n",
    "    return 1/m * np.dot(hypothesis(theta, X) - y, X)"
   ]
  },
  {
   "cell_type": "code",
   "execution_count": 20,
   "metadata": {},
   "outputs": [
    {
     "data": {
      "text/plain": [
       "array([ -5.83913505, -65.32884975])"
      ]
     },
     "execution_count": 20,
     "metadata": {},
     "output_type": "execute_result"
    }
   ],
   "source": [
    "gradient(theta, X, y)"
   ]
  },
  {
   "cell_type": "code",
   "execution_count": 21,
   "metadata": {},
   "outputs": [],
   "source": [
    "def gradient_descent(theta, X, y, alpha, iterations):\n",
    "    \n",
    "    '''\n",
    "    The function produces two output. \n",
    "    First output is fit parameter in final iteration of gradient descent. \n",
    "    Second output is value of cost function on each iteration. \n",
    "    theta is vectorized fit parameters. \n",
    "    X is a feature matrix.\n",
    "    y is a response vector.\n",
    "    iterations is numer of iterations. \n",
    "    '''\n",
    "    cost_list = list()\n",
    "    \n",
    "    for _ in range(iterations):\n",
    "        theta = theta - alpha * gradient(theta, X, y)\n",
    "        cost_list.append(cost_function(theta, X, y))\n",
    "    return theta, cost_list"
   ]
  },
  {
   "cell_type": "code",
   "execution_count": 22,
   "metadata": {},
   "outputs": [
    {
     "data": {
      "text/plain": [
       "array([-3.78806857,  1.18221277])"
      ]
     },
     "execution_count": 22,
     "metadata": {},
     "output_type": "execute_result"
    }
   ],
   "source": [
    "result = gradient_descent(theta, X, y, alpha, iterations)\n",
    "result[0]"
   ]
  },
  {
   "cell_type": "markdown",
   "metadata": {},
   "source": [
    "These are exactly same as the values of $\\theta_0$ and $\\theta_1$ as we calculated above by using normal equations. \n",
    "\n",
    "# Line of best fit "
   ]
  },
  {
   "cell_type": "code",
   "execution_count": 23,
   "metadata": {},
   "outputs": [
    {
     "data": {
      "image/png": "[encoded data removed]",
      "text/plain": [
       "<Figure size 576x432 with 1 Axes>"
      ]
     },
     "metadata": {},
     "output_type": "display_data"
    }
   ],
   "source": [
    "# This first part of code is same code producing the scatter plot before. \n",
    "plt.figure(figsize = (8, 6))\n",
    "plt.plot(df['populations'], df['profit'], 'rx', markersize = 12)\n",
    "plt.xlabel('Population of cities in 10,000s')\n",
    "plt.ylabel('Profit in $10,000s')\n",
    "plt.title('scatter plot with line of best fit')\n",
    "\n",
    "# Second part produce the line of best fit. \n",
    "# First initiate the X-variable. \n",
    "X_list = [5, 22]\n",
    "\n",
    "# Calculate y by using y = theta_0 + theta_1 * X \n",
    "plt.plot(X_list, np.dot(result[0][1], X_list) + result[0][0], 'b')\n",
    "plt.show()"
   ]
  },
  {
   "cell_type": "markdown",
   "metadata": {},
   "source": [
    "# Convergence of cost function\n",
    "\n",
    "In this section we evaluate the value of the cost function at the predicted values of the $\\theta$'s. In the following plot it is seen that the cost function is gradually decreasing in each iterations and finally approaches the minimum asymptotically."
   ]
  },
  {
   "cell_type": "code",
   "execution_count": 24,
   "metadata": {},
   "outputs": [
    {
     "data": {
      "text/plain": [
       "4.4780276098799705"
      ]
     },
     "execution_count": 24,
     "metadata": {},
     "output_type": "execute_result"
    }
   ],
   "source": [
    "cost_function(result[0], X, y)       # Cost function at the end of iterations. "
   ]
  },
  {
   "cell_type": "code",
   "execution_count": 25,
   "metadata": {},
   "outputs": [
    {
     "data": {
      "image/png": "[encoded data removed]",
      "text/plain": [
       "<Figure size 576x432 with 1 Axes>"
      ]
     },
     "metadata": {},
     "output_type": "display_data"
    }
   ],
   "source": [
    "plt.figure(figsize = (8, 6))\n",
    "\n",
    "# choosing the second output of gradient descent. Which is list of cost functions \n",
    "# in each iterations of the gradient descent.\n",
    "# 'k' chooses the black color for the curve. \n",
    "plt.plot(result[1], 'k')\n",
    "plt.xlabel('iterations')\n",
    "plt.ylabel('cost function')\n",
    "plt.title('convergence of cost function')\n",
    "plt.show()"
   ]
  },
  {
   "cell_type": "markdown",
   "metadata": {},
   "source": [
    "# 3D plot and contour plot\n",
    "\n",
    "In the following 3D plot and contour plot we can see that $\\theta_0 = -3.8 \\quad and \\quad \\theta_1 = 1.2 $ is indded the location of minimum of the surface of the cost function."
   ]
  },
  {
   "cell_type": "code",
   "execution_count": 26,
   "metadata": {},
   "outputs": [],
   "source": [
    "from mpl_toolkits.mplot3d import Axes3D"
   ]
  },
  {
   "cell_type": "code",
   "execution_count": 27,
   "metadata": {},
   "outputs": [],
   "source": [
    "theta_0 = np.linspace(-10, 10)\n",
    "theta_1 = np.linspace(-1, 4)\n",
    "theta_0x, theta_1x = np.meshgrid(theta_0, theta_1, indexing = 'xy')\n",
    "\n",
    "cost_grid = np.zeros((theta_0.size,theta_1.size))\n",
    "\n",
    "for (i, j), k in np.ndenumerate(cost_grid):\n",
    "    theta_ij = [theta_0[j], theta_1[i]]\n",
    "    cost_grid[i,j] = cost_function(theta_ij, X, y)"
   ]
  },
  {
   "cell_type": "code",
   "execution_count": 28,
   "metadata": {},
   "outputs": [
    {
     "data": {
      "text/plain": [
       "[-9.591836734693878, -0.8979591836734694]"
      ]
     },
     "execution_count": 28,
     "metadata": {},
     "output_type": "execute_result"
    }
   ],
   "source": [
    "[theta_0[1], theta_1[1]]"
   ]
  },
  {
   "cell_type": "code",
   "execution_count": 29,
   "metadata": {},
   "outputs": [
    {
     "data": {
      "image/png": "[encoded data removed]",
      "text/plain": [
       "<Figure size 576x288 with 2 Axes>"
      ]
     },
     "metadata": {},
     "output_type": "display_data"
    }
   ],
   "source": [
    "fig = plt.figure(figsize = (8, 4))\n",
    "\n",
    "ax = fig.add_subplot(121, projection = '3d')\n",
    "ax.plot_surface(theta_0x, theta_1x, cost_grid, rstride = 2, cstride = 2, cmap = plt.cm.jet)\n",
    "ax.view_init(elev = 10, azim = 230)\n",
    "\n",
    "ax = fig.add_subplot(122)\n",
    "cont_loc = [7, 20, 80, 180, 280, 380, 460, 540, 620, 700]\n",
    "ax.contour(theta_0x,theta_1x, cost_grid, cont_loc, colors = 'k')\n",
    "ax.scatter(result[0][0], result[0][1], color = 'r')\n",
    "\n",
    "fig.subplots_adjust(wspace = 0.6)\n",
    "plt.show()"
   ]
  },
  {
   "cell_type": "markdown",
   "metadata": {},
   "source": [
    "# Linear fit using scikit learn \n",
    "\n",
    "The algorithm written above might be slow to implement on large data set on real life. In that case we can use advanced optimization method using scikit learn or statsmodel. This and next sections are about scikit learn. And last section is about the statsmodel package."
   ]
  },
  {
   "cell_type": "code",
   "execution_count": 30,
   "metadata": {},
   "outputs": [],
   "source": [
    "from sklearn.linear_model import LinearRegression"
   ]
  },
  {
   "cell_type": "code",
   "execution_count": 31,
   "metadata": {},
   "outputs": [],
   "source": [
    "model = LinearRegression()"
   ]
  },
  {
   "cell_type": "code",
   "execution_count": 32,
   "metadata": {},
   "outputs": [],
   "source": [
    "X = df[['populations']]\n",
    "y = df['profit']\n",
    "\n",
    "model.fit(X, y)\n",
    "xfit = np.linspace(5, 22, 5)\n",
    "yfit = model.predict(xfit[:, np.newaxis])"
   ]
  },
  {
   "cell_type": "code",
   "execution_count": 33,
   "metadata": {},
   "outputs": [
    {
     "data": {
      "image/png": "[encoded data removed]",
      "text/plain": [
       "<Figure size 576x432 with 1 Axes>"
      ]
     },
     "metadata": {},
     "output_type": "display_data"
    }
   ],
   "source": [
    "plt.figure(figsize = (8, 6))\n",
    "plt.plot(X, y, 'rx', markersize = 12)\n",
    "plt.plot(xfit, yfit, 'k');\n",
    "plt.xlabel('Population of cities in 10,000s')\n",
    "plt.ylabel('Profit in $10,000s')\n",
    "plt.title('scatter plot with line of best fit')\n",
    "plt.show()"
   ]
  },
  {
   "cell_type": "markdown",
   "metadata": {},
   "source": [
    "# Accessing model accuracy \n",
    "\n",
    "Mean squared error and R-squared calculated here gives some indication about how well the data is fitting on the training set. It might not necessarily indicate its accuracy in test set. If the model fits exceptionally well on training set and performs worst on test set, then there might be overfitting. We we should avoide in any cost. "
   ]
  },
  {
   "cell_type": "code",
   "execution_count": 34,
   "metadata": {},
   "outputs": [],
   "source": [
    "from sklearn.metrics import mean_squared_error\n",
    "from sklearn.metrics import r2_score"
   ]
  },
  {
   "cell_type": "code",
   "execution_count": 35,
   "metadata": {},
   "outputs": [
    {
     "name": "stdout",
     "output_type": "stream",
     "text": [
      "Mean squared error : \t 8.953942751950358\n",
      "R squared : \t \t 0.7020315537841397\n"
     ]
    }
   ],
   "source": [
    "y_pred = model.predict(X)\n",
    "\n",
    "print('Mean squared error : \\t', mean_squared_error(y, y_pred))\n",
    "print('R squared : \\t \\t', r2_score(y, y_pred))"
   ]
  },
  {
   "cell_type": "markdown",
   "metadata": {},
   "source": [
    "# Linear model using statsmodels\n",
    "\n",
    "Statsmodes' functionality can be useful for staistical modeling. More importantly it gives the standard error and p-value of each regression coefficient. Which can be very helpful in feature selection etc. \n",
    "\n",
    "Also notice that the coef: (intercept, population) are very close to $\\theta_0 \\quad and \\quad \\theta_1 $ predicted above. Also R-squared is the same, indicating the consistencies of our overall calculation."
   ]
  },
  {
   "cell_type": "code",
   "execution_count": 36,
   "metadata": {},
   "outputs": [],
   "source": [
    "import statsmodels.formula.api as smf "
   ]
  },
  {
   "cell_type": "code",
   "execution_count": 37,
   "metadata": {},
   "outputs": [
    {
     "data": {
      "text/html": [
       "<table class=\"simpletable\">\n",
       "<caption>OLS Regression Results</caption>\n",
       "<tr>\n",
       "  <th>Dep. Variable:</th>         <td>profit</td>      <th>  R-squared:         </th> <td>   0.702</td>\n",
       "</tr>\n",
       "<tr>\n",
       "  <th>Model:</th>                   <td>OLS</td>       <th>  Adj. R-squared:    </th> <td>   0.699</td>\n",
       "</tr>\n",
       "<tr>\n",
       "  <th>Method:</th>             <td>Least Squares</td>  <th>  F-statistic:       </th> <td>   223.8</td>\n",
       "</tr>\n",
       "<tr>\n",
       "  <th>Date:</th>             <td>Tue, 13 Nov 2018</td> <th>  Prob (F-statistic):</th> <td>1.02e-26</td>\n",
       "</tr>\n",
       "<tr>\n",
       "  <th>Time:</th>                 <td>20:34:19</td>     <th>  Log-Likelihood:    </th> <td> -243.95</td>\n",
       "</tr>\n",
       "<tr>\n",
       "  <th>No. Observations:</th>      <td>    97</td>      <th>  AIC:               </th> <td>   491.9</td>\n",
       "</tr>\n",
       "<tr>\n",
       "  <th>Df Residuals:</th>          <td>    95</td>      <th>  BIC:               </th> <td>   497.1</td>\n",
       "</tr>\n",
       "<tr>\n",
       "  <th>Df Model:</th>              <td>     1</td>      <th>                     </th>     <td> </td>   \n",
       "</tr>\n",
       "<tr>\n",
       "  <th>Covariance Type:</th>      <td>nonrobust</td>    <th>                     </th>     <td> </td>   \n",
       "</tr>\n",
       "</table>\n",
       "<table class=\"simpletable\">\n",
       "<tr>\n",
       "       <td></td>          <th>coef</th>     <th>std err</th>      <th>t</th>      <th>P>|t|</th>  <th>[0.025</th>    <th>0.975]</th>  \n",
       "</tr>\n",
       "<tr>\n",
       "  <th>Intercept</th>   <td>   -3.8958</td> <td>    0.719</td> <td>   -5.415</td> <td> 0.000</td> <td>   -5.324</td> <td>   -2.467</td>\n",
       "</tr>\n",
       "<tr>\n",
       "  <th>populations</th> <td>    1.1930</td> <td>    0.080</td> <td>   14.961</td> <td> 0.000</td> <td>    1.035</td> <td>    1.351</td>\n",
       "</tr>\n",
       "</table>\n",
       "<table class=\"simpletable\">\n",
       "<tr>\n",
       "  <th>Omnibus:</th>       <td>39.986</td> <th>  Durbin-Watson:     </th> <td>   0.994</td>\n",
       "</tr>\n",
       "<tr>\n",
       "  <th>Prob(Omnibus):</th> <td> 0.000</td> <th>  Jarque-Bera (JB):  </th> <td> 108.142</td>\n",
       "</tr>\n",
       "<tr>\n",
       "  <th>Skew:</th>          <td> 1.455</td> <th>  Prob(JB):          </th> <td>3.29e-24</td>\n",
       "</tr>\n",
       "<tr>\n",
       "  <th>Kurtosis:</th>      <td> 7.276</td> <th>  Cond. No.          </th> <td>    21.4</td>\n",
       "</tr>\n",
       "</table><br/><br/>Warnings:<br/>[1] Standard Errors assume that the covariance matrix of the errors is correctly specified."
      ],
      "text/plain": [
       "<class 'statsmodels.iolib.summary.Summary'>\n",
       "\"\"\"\n",
       "                            OLS Regression Results                            \n",
       "==============================================================================\n",
       "Dep. Variable:                 profit   R-squared:                       0.702\n",
       "Model:                            OLS   Adj. R-squared:                  0.699\n",
       "Method:                 Least Squares   F-statistic:                     223.8\n",
       "Date:                Tue, 13 Nov 2018   Prob (F-statistic):           1.02e-26\n",
       "Time:                        20:34:19   Log-Likelihood:                -243.95\n",
       "No. Observations:                  97   AIC:                             491.9\n",
       "Df Residuals:                      95   BIC:                             497.1\n",
       "Df Model:                           1                                         \n",
       "Covariance Type:            nonrobust                                         \n",
       "===============================================================================\n",
       "                  coef    std err          t      P>|t|      [0.025      0.975]\n",
       "-------------------------------------------------------------------------------\n",
       "Intercept      -3.8958      0.719     -5.415      0.000      -5.324      -2.467\n",
       "populations     1.1930      0.080     14.961      0.000       1.035       1.351\n",
       "==============================================================================\n",
       "Omnibus:                       39.986   Durbin-Watson:                   0.994\n",
       "Prob(Omnibus):                  0.000   Jarque-Bera (JB):              108.142\n",
       "Skew:                           1.455   Prob(JB):                     3.29e-24\n",
       "Kurtosis:                       7.276   Cond. No.                         21.4\n",
       "==============================================================================\n",
       "\n",
       "Warnings:\n",
       "[1] Standard Errors assume that the covariance matrix of the errors is correctly specified.\n",
       "\"\"\""
      ]
     },
     "execution_count": 37,
     "metadata": {},
     "output_type": "execute_result"
    }
   ],
   "source": [
    "results = smf.ols('profit ~ populations', data = df).fit()\n",
    "results.summary()"
   ]
  },
  {
   "cell_type": "code",
   "execution_count": null,
   "metadata": {},
   "outputs": [],
   "source": []
  }
 ],
 "metadata": {
  "kernelspec": {
   "display_name": "Python 3",
   "language": "python",
   "name": "python3"
  },
  "language_info": {
   "codemirror_mode": {
    "name": "ipython",
    "version": 3
   },
   "file_extension": ".py",
   "mimetype": "text/x-python",
   "name": "python",
   "nbconvert_exporter": "python",
   "pygments_lexer": "ipython3",
   "version": "3.6.5"
  }
 },
 "nbformat": 4,
 "nbformat_minor": 2
}

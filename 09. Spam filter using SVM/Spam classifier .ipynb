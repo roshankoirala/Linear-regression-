{
 "cells": [
  {
   "cell_type": "code",
   "execution_count": 1,
   "metadata": {},
   "outputs": [],
   "source": [
    "import numpy as np\n",
    "import pandas as pd\n",
    "from scipy.io import loadmat\n",
    "from sklearn.svm import SVC\n",
    "import re\n",
    "from nltk.stem import PorterStemmer"
   ]
  },
  {
   "cell_type": "markdown",
   "metadata": {},
   "source": [
    "# Spam Classifier "
   ]
  },
  {
   "cell_type": "code",
   "execution_count": 2,
   "metadata": {},
   "outputs": [],
   "source": [
    "spam_train = loadmat('spamTrain.mat')\n",
    "spam_test = loadmat('spamTest.mat')\n",
    "\n",
    "X_train, y_train = spam_train['X'], spam_train['y']\n",
    "X_test, y_test = spam_test['Xtest'], spam_test['ytest']\n",
    "\n",
    "email_sample = open('emailSample1.txt').read()\n",
    "spam_sample = open('spamSample1.txt').read()\n",
    "\n",
    "vocab_list = open('vocab.txt').read()"
   ]
  },
  {
   "cell_type": "markdown",
   "metadata": {},
   "source": [
    "# Preprocessing emails "
   ]
  },
  {
   "cell_type": "code",
   "execution_count": 3,
   "metadata": {},
   "outputs": [],
   "source": [
    "ps = PorterStemmer()"
   ]
  },
  {
   "cell_type": "code",
   "execution_count": 4,
   "metadata": {},
   "outputs": [],
   "source": [
    "def process_email(email_sample, vocab_dic):\n",
    "\n",
    "    # Using regular expression to preprocess the email \n",
    "    email_sample = email_sample.lower()\n",
    "    email_sample = re.sub('[0 - 9] + ', 'number', email_sample)\n",
    "    email_sample = re.sub('[https|http]://[^\\s]*', 'httpaddr', email_sample)\n",
    "    email_sample = re.sub('[^\\s]+@[^\\s]+', 'emailaddr', email_sample)\n",
    "    email_sample = re.sub('[$]+', 'dollar', email_sample)\n",
    "    special_characters =  [\"\\.\",   \",\",   \":\",   \"'\",   \"<\", \">\", \\\n",
    "                           \"\\+\",   \"\\?\",   \"!\",   \"\\[\", \"]\",   \"^\",   \"\\n\",   \"\\t\"]\n",
    "    for i in special_characters:\n",
    "        email_sample = re.sub(i, '', email_sample)\n",
    "\n",
    "    # Further preprocessing \n",
    "    email_sample = [ps.stem(i) for i in email_sample.split(' ')]\n",
    "    email_sample = ' '.join(email_sample)\n",
    "\n",
    "    word_freq = []\n",
    "\n",
    "    for i in email_sample.split():\n",
    "        if len(i) > 1 and i in vocab_dic:\n",
    "            word_freq.append(int(vocab_dic[i]))\n",
    "\n",
    "    return word_freq"
   ]
  },
  {
   "cell_type": "markdown",
   "metadata": {},
   "source": [
    "# Vocab list "
   ]
  },
  {
   "cell_type": "code",
   "execution_count": 5,
   "metadata": {},
   "outputs": [],
   "source": [
    "vocab_list = vocab_list.split('\\n')[:-1]\n",
    "\n",
    "vocab_dic = {}\n",
    "for i in vocab_list:\n",
    "    value, key = i.split('\\t')\n",
    "    vocab_dic[key] = value"
   ]
  },
  {
   "cell_type": "code",
   "execution_count": 6,
   "metadata": {},
   "outputs": [
    {
     "data": {
      "text/plain": [
       "{'aa': '1', 'ab': '2', 'abil': '3', 'abl': '4', 'about': '5'}"
      ]
     },
     "execution_count": 6,
     "metadata": {},
     "output_type": "execute_result"
    }
   ],
   "source": [
    "import itertools\n",
    "dict(itertools.islice(vocab_dic.items(), 5))"
   ]
  },
  {
   "cell_type": "code",
   "execution_count": 7,
   "metadata": {},
   "outputs": [
    {
     "name": "stdout",
     "output_type": "stream",
     "text": [
      "Pretty printing has been turned OFF\n"
     ]
    },
    {
     "data": {
      "text/plain": [
       "[86, 916, 794, 1077, 883, 370, 1699, 790, 1822, 1831, 883, 431, 1171, 794, 1002, 1895, 238, 162, 89, 688, 945, 1663, 1062, 1699, 375, 1162, 1893, 1510, 1182, 1237, 810, 1895, 1440, 1547, 1758, 1896, 688, 1676, 992, 961, 1477, 71, 530]"
      ]
     },
     "execution_count": 7,
     "metadata": {},
     "output_type": "execute_result"
    }
   ],
   "source": [
    "%pprint\n",
    "process_email(email_sample, vocab_dic)"
   ]
  },
  {
   "cell_type": "markdown",
   "metadata": {},
   "source": [
    "# Extracting features from email"
   ]
  },
  {
   "cell_type": "code",
   "execution_count": 8,
   "metadata": {},
   "outputs": [],
   "source": [
    "def email_features(email_sample, vocab_dic):\n",
    "    \n",
    "    features = np.zeros((len(vocab_dic), 1))\n",
    "    word_freq = process_email(email_sample, vocab_dic)\n",
    "    for i in word_freq:\n",
    "        features[i] = 1\n",
    "    return features"
   ]
  },
  {
   "cell_type": "code",
   "execution_count": 9,
   "metadata": {},
   "outputs": [
    {
     "name": "stdout",
     "output_type": "stream",
     "text": [
      "Length of feature vector: \t 1899\n",
      "Number of non-zero entries: \t 38.0\n"
     ]
    }
   ],
   "source": [
    "feature_samp_1 = email_features(email_sample, vocab_dic)\n",
    "\n",
    "print('Length of feature vector: \\t', len(feature_samp_1))\n",
    "print('Number of non-zero entries: \\t', feature_samp_1.sum())"
   ]
  },
  {
   "cell_type": "code",
   "execution_count": 10,
   "metadata": {},
   "outputs": [
    {
     "name": "stdout",
     "output_type": "stream",
     "text": [
      "Length of feature vector: \t 1899\n",
      "Number of non-zero entries: \t 45.0\n"
     ]
    }
   ],
   "source": [
    "feature_samp_2 = email_features(spam_sample, vocab_dic)\n",
    "\n",
    "print('Length of feature vector: \\t', len(feature_samp_2))\n",
    "print('Number of non-zero entries: \\t', feature_samp_2.sum())"
   ]
  },
  {
   "cell_type": "markdown",
   "metadata": {},
   "source": [
    "# Training SVM \n",
    "\n",
    "Having known how to extract features from an individual email we move on to the data extracted this way from many emails. "
   ]
  },
  {
   "cell_type": "code",
   "execution_count": 11,
   "metadata": {},
   "outputs": [],
   "source": [
    "model = SVC(C = 0.12, kernel = 'linear')"
   ]
  },
  {
   "cell_type": "code",
   "execution_count": 12,
   "metadata": {},
   "outputs": [
    {
     "name": "stdout",
     "output_type": "stream",
     "text": [
      "Training Accuracy: \t 99.9 %\n",
      "Test Accuracy: \t\t 98.6 %\n"
     ]
    }
   ],
   "source": [
    "model.fit(X_train, y_train.ravel())\n",
    "\n",
    "print('Training Accuracy: \\t {} %'.format(model.score(X_train, y_train) * 100))\n",
    "print('Test Accuracy: \\t\\t {} %'.format(model.score(X_test, y_test) * 100))"
   ]
  },
  {
   "cell_type": "markdown",
   "metadata": {},
   "source": [
    "# Top predictor of spam "
   ]
  },
  {
   "cell_type": "code",
   "execution_count": 13,
   "metadata": {},
   "outputs": [
    {
     "data": {
      "text/html": [
       "<div>\n",
       "<style scoped>\n",
       "    .dataframe tbody tr th:only-of-type {\n",
       "        vertical-align: middle;\n",
       "    }\n",
       "\n",
       "    .dataframe tbody tr th {\n",
       "        vertical-align: top;\n",
       "    }\n",
       "\n",
       "    .dataframe thead th {\n",
       "        text-align: right;\n",
       "    }\n",
       "</style>\n",
       "<table border=\"1\" class=\"dataframe\">\n",
       "  <thead>\n",
       "    <tr style=\"text-align: right;\">\n",
       "      <th></th>\n",
       "      <th>Word</th>\n",
       "      <th>Weight</th>\n",
       "    </tr>\n",
       "  </thead>\n",
       "  <tbody>\n",
       "    <tr>\n",
       "      <th>1191</th>\n",
       "      <td>our</td>\n",
       "      <td>0.519944</td>\n",
       "    </tr>\n",
       "    <tr>\n",
       "      <th>298</th>\n",
       "      <td>click</td>\n",
       "      <td>0.487389</td>\n",
       "    </tr>\n",
       "    <tr>\n",
       "      <th>1398</th>\n",
       "      <td>remov</td>\n",
       "      <td>0.431957</td>\n",
       "    </tr>\n",
       "    <tr>\n",
       "      <th>739</th>\n",
       "      <td>guarante</td>\n",
       "      <td>0.400727</td>\n",
       "    </tr>\n",
       "    <tr>\n",
       "      <th>1796</th>\n",
       "      <td>visit</td>\n",
       "      <td>0.386083</td>\n",
       "    </tr>\n",
       "    <tr>\n",
       "      <th>156</th>\n",
       "      <td>basenumb</td>\n",
       "      <td>0.351535</td>\n",
       "    </tr>\n",
       "    <tr>\n",
       "      <th>477</th>\n",
       "      <td>dollar</td>\n",
       "      <td>0.314385</td>\n",
       "    </tr>\n",
       "    <tr>\n",
       "      <th>1299</th>\n",
       "      <td>price</td>\n",
       "      <td>0.291478</td>\n",
       "    </tr>\n",
       "    <tr>\n",
       "      <th>1852</th>\n",
       "      <td>will</td>\n",
       "      <td>0.289202</td>\n",
       "    </tr>\n",
       "    <tr>\n",
       "      <th>966</th>\n",
       "      <td>lo</td>\n",
       "      <td>0.272873</td>\n",
       "    </tr>\n",
       "  </tbody>\n",
       "</table>\n",
       "</div>"
      ],
      "text/plain": [
       "          Word    Weight\n",
       "1191       our  0.519944\n",
       "298      click  0.487389\n",
       "1398     remov  0.431957\n",
       "739   guarante  0.400727\n",
       "1796     visit  0.386083\n",
       "156   basenumb  0.351535\n",
       "477     dollar  0.314385\n",
       "1299     price  0.291478\n",
       "1852      will  0.289202\n",
       "966         lo  0.272873"
      ]
     },
     "execution_count": 13,
     "metadata": {},
     "output_type": "execute_result"
    }
   ],
   "source": [
    "# Switch key, values of vocab_doct and change to data frame. \n",
    "vocab_dic_1 = {y : x for x, y in vocab_dic.items()}\n",
    "vocab_df = pd.DataFrame(vocab_dic_1, index = [0]).transpose()\n",
    "\n",
    "# Add a new column in data frame with fit coefficients. \n",
    "vocab_df[1] = model.coef_.flatten()\n",
    "vocab_df.columns = ['Word', 'Weight']\n",
    "\n",
    "# Finding the top predictor \n",
    "top_predictor_df = vocab_df.sort_values(by = 'Weight', ascending = False)\n",
    "top_predictor_df.head(10)"
   ]
  },
  {
   "cell_type": "markdown",
   "metadata": {},
   "source": [
    "# Predicting model "
   ]
  },
  {
   "cell_type": "code",
   "execution_count": 14,
   "metadata": {},
   "outputs": [],
   "source": [
    "def predict(email_sample, vocab =  vocab_dic):\n",
    "    feature = email_features(email_sample, vocab_dic)\n",
    "    if model.predict(feature.T)[0] == 0:\n",
    "        print('THIS EMAIL IS NOT SPAM.')\n",
    "    else:\n",
    "        print('THIS EMAIL IS SPAM.')"
   ]
  },
  {
   "cell_type": "code",
   "execution_count": 15,
   "metadata": {},
   "outputs": [
    {
     "name": "stdout",
     "output_type": "stream",
     "text": [
      "> Anyone knows how much it costs to host a web portal ?\n",
      ">\n",
      "Well, it depends on how many visitors you're expecting.\n",
      "This can be anywhere from less than 10 bucks a month to a couple of $100. \n",
      "You should checkout http://www.rackspace.com/ or perhaps Amazon EC2 \n",
      "if youre running something big..\n",
      "\n",
      "To unsubscribe yourself from this mailing list, send an email to:\n",
      "groupname-unsubscribe@egroups.com\n",
      "\n",
      "\n"
     ]
    }
   ],
   "source": [
    "print(email_sample)"
   ]
  },
  {
   "cell_type": "code",
   "execution_count": 16,
   "metadata": {},
   "outputs": [
    {
     "name": "stdout",
     "output_type": "stream",
     "text": [
      "THIS EMAIL IS NOT SPAM.\n"
     ]
    }
   ],
   "source": [
    "predict(email_sample)"
   ]
  },
  {
   "cell_type": "code",
   "execution_count": 17,
   "metadata": {},
   "outputs": [
    {
     "name": "stdout",
     "output_type": "stream",
     "text": [
      "Do You Want To Make $1000 Or More Per Week?\n",
      "\n",
      " \n",
      "\n",
      "If you are a motivated and qualified individual - I \n",
      "will personally demonstrate to you a system that will \n",
      "make you $1,000 per week or more! This is NOT mlm.\n",
      "\n",
      " \n",
      "\n",
      "Call our 24 hour pre-recorded number to get the \n",
      "details.  \n",
      "\n",
      " \n",
      "\n",
      "000-456-789\n",
      "\n",
      " \n",
      "\n",
      "I need people who want to make serious money.  Make \n",
      "the call and get the facts. \n",
      "\n",
      "Invest 2 minutes in yourself now!\n",
      "\n",
      " \n",
      "\n",
      "000-456-789\n",
      "\n",
      " \n",
      "\n",
      "Looking forward to your call and I will introduce you \n",
      "to people like yourself who\n",
      "are currently making $10,000 plus per week!\n",
      "\n",
      " \n",
      "\n",
      "000-456-789\n",
      "\n",
      "\n",
      "\n",
      "3484lJGv6-241lEaN9080lRmS6-271WxHo7524qiyT5-438rjUv5615hQcf0-662eiDB9057dMtVl72\n",
      "\n",
      "\n"
     ]
    }
   ],
   "source": [
    "print(spam_sample)"
   ]
  },
  {
   "cell_type": "code",
   "execution_count": 18,
   "metadata": {},
   "outputs": [
    {
     "name": "stdout",
     "output_type": "stream",
     "text": [
      "THIS EMAIL IS SPAM.\n"
     ]
    }
   ],
   "source": [
    "predict(spam_sample)"
   ]
  },
  {
   "cell_type": "code",
   "execution_count": null,
   "metadata": {},
   "outputs": [],
   "source": []
  }
 ],
 "metadata": {
  "kernelspec": {
   "display_name": "Python 3",
   "language": "python",
   "name": "python3"
  },
  "language_info": {
   "codemirror_mode": {
    "name": "ipython",
    "version": 3
   },
   "file_extension": ".py",
   "mimetype": "text/x-python",
   "name": "python",
   "nbconvert_exporter": "python",
   "pygments_lexer": "ipython3",
   "version": "3.6.5"
  }
 },
 "nbformat": 4,
 "nbformat_minor": 2
}

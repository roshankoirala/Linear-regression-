{
  "cells": [
    {
      "metadata": {
        "_uuid": "4339fea1bc35c9d4aebd1327a4e33852b08926e7"
      },
      "cell_type": "markdown",
      "source": "**Introduction **\n\nAre you interested on:\n1. Which YouTube channel have most viewers, subscribers, video uploads etc?\n2. Does more video upload gives out the more video views and more subscribers?\n3. Does more subscriber gives more video views?\n4. Is there a way to predict the number of subscribers based on the number of video uploaded by the channel and number of video views on it? \n\nThen, here I have tried to answer some of those questions using some visual tools and some analytical tools. "
    },
    {
      "metadata": {
        "_uuid": "8f2839f25d086af736a60e9eeb907d3b93b6e0e5",
        "_cell_guid": "b1076dfc-b9ad-4769-8c92-a6c4dae69d19",
        "trusted": true
      },
      "cell_type": "code",
      "source": "import numpy as np \nimport pandas as pd \n\nimport os\nprint(os.listdir(\"../input\"))",
      "execution_count": null,
      "outputs": []
    },
    {
      "metadata": {
        "trusted": true,
        "_uuid": "0f35b58a14dc165614d9a44a043fd210780c4bd9"
      },
      "cell_type": "code",
      "source": "import matplotlib.pyplot as plt\nimport seaborn as sns \nfrom sklearn.model_selection import train_test_split\nfrom sklearn.linear_model import LinearRegression\nfrom sklearn import metrics\nimport statsmodels.api as sm",
      "execution_count": null,
      "outputs": []
    },
    {
      "metadata": {
        "_cell_guid": "79c7e3d0-c299-4dcb-8224-4455121ee9b0",
        "_uuid": "d629ff2d2480ee46fbb7e2d37f6b5fab8052498a",
        "trusted": true
      },
      "cell_type": "code",
      "source": "df = pd.read_csv('../input/data.csv')",
      "execution_count": null,
      "outputs": []
    },
    {
      "metadata": {
        "trusted": true,
        "_uuid": "0286a6822fcac9611e10e967524c03af9da5d668"
      },
      "cell_type": "code",
      "source": "df.head()",
      "execution_count": null,
      "outputs": []
    },
    {
      "metadata": {
        "trusted": true,
        "_uuid": "4a5f238f4dd1790ad3d4b6477a1cb00febc3ee08"
      },
      "cell_type": "code",
      "source": "df.tail()",
      "execution_count": null,
      "outputs": []
    },
    {
      "metadata": {
        "trusted": true,
        "_uuid": "076152c29d03920dfe733cdefa17c6dc481f70fd"
      },
      "cell_type": "code",
      "source": "df.info()",
      "execution_count": null,
      "outputs": []
    },
    {
      "metadata": {
        "trusted": true,
        "_uuid": "f8993bf4ba20929743bbffd804a1dee825a2320c"
      },
      "cell_type": "code",
      "source": "#df['Subscribers'] = df['Subscribers'].convert_objects(convert_numeric=True)\n#df['Video Uploads'] = df['Video Uploads'].convert_objects(convert_numeric=True)\n\ndf['Subscribers'] = pd.to_numeric(df['Subscribers'], errors='coerce')\ndf['Video Uploads'] = pd.to_numeric(df['Video Uploads'], errors='coerce')",
      "execution_count": null,
      "outputs": []
    },
    {
      "metadata": {
        "_uuid": "642cda844e903bffa5762e52cebc669b17d94824"
      },
      "cell_type": "markdown",
      "source": "**Exploratory data analysis**\n\nHere I start with plotting some bar graphs showing top 20 in each kind of classification of the channels. First three are top 20 by their ranking, where their number of viewers, subscribers and video views are presented. The second three are top 20 based on each of the group themselves. "
    },
    {
      "metadata": {
        "trusted": true,
        "_uuid": "70cc164029b21d9094bc79162f755b9721b4f24c"
      },
      "cell_type": "code",
      "source": "df.head(20).plot.bar(x = 'Channel name', y = 'Subscribers')\nplt.title('Number of subscribers of top 20 channels')",
      "execution_count": null,
      "outputs": []
    },
    {
      "metadata": {
        "trusted": true,
        "scrolled": true,
        "_uuid": "71f539891d252541e7086393e4c6c65f27ff38fa"
      },
      "cell_type": "code",
      "source": "df.head(20).plot.bar(x = 'Channel name', y = 'Video views')\nplt.title('Number of video views of top 20 channels')",
      "execution_count": null,
      "outputs": []
    },
    {
      "metadata": {
        "trusted": true,
        "_uuid": "72310de06d5681794ba09978ef687d93aa7683f9"
      },
      "cell_type": "code",
      "source": "df.head(20).plot.bar(x = 'Channel name', y = 'Video Uploads')\nplt.title('Number of video uploads of top 20 channels')",
      "execution_count": null,
      "outputs": []
    },
    {
      "metadata": {
        "trusted": true,
        "_uuid": "ce0f384fd92313df37f4c5bac5f94721b927b5ea"
      },
      "cell_type": "code",
      "source": "df.sort_values(by = ['Subscribers'], ascending = False).head(20).plot.bar(x = 'Channel name', y = 'Subscribers')\nplt.title('Top 20 channels with maximum number of subscribers')",
      "execution_count": null,
      "outputs": []
    },
    {
      "metadata": {
        "trusted": true,
        "_uuid": "ff983601455ba914a32915506786171edb03626d"
      },
      "cell_type": "code",
      "source": "df.sort_values(by = ['Video views'], ascending = False).head(20).plot.bar(x = 'Channel name', y = 'Video views')\nplt.title('Top 20 channels with maximum number of video views')",
      "execution_count": null,
      "outputs": []
    },
    {
      "metadata": {
        "trusted": true,
        "_uuid": "95973b3de8bba0bada6d3fa6e647c5935a17110e"
      },
      "cell_type": "code",
      "source": "df.sort_values(by = ['Video Uploads'], ascending = False).head(20).plot.bar(x = 'Channel name', y = 'Video Uploads')\nplt.title('Top 20 channels with maximum number of video uploads')",
      "execution_count": null,
      "outputs": []
    },
    {
      "metadata": {
        "_uuid": "3eb19a6cbbecd5eb35021ea6cad2b29fb18b37e3"
      },
      "cell_type": "markdown",
      "source": "Here I am interested how all the channels in the list distribute in terms of subscribers, video uploads and subscribers going from maximum to minimum in each class. Interestingly there is huge peak at the top list and tend to gain a plateau for the other channels quickly. "
    },
    {
      "metadata": {
        "trusted": true,
        "_uuid": "f7edf9f75f10b6287500b230c8d2d1b6b1b10936"
      },
      "cell_type": "code",
      "source": "df.sort_values(by = ['Subscribers'], ascending = False).plot(x = 'Channel name', y = 'Subscribers')\nplt.xlabel('Ranking by subscribers')\nplt.ylabel('Number of subscribers')",
      "execution_count": null,
      "outputs": []
    },
    {
      "metadata": {
        "trusted": true,
        "_uuid": "4706084515a9771ac0cc7b165eaf2b1d907db9ac"
      },
      "cell_type": "code",
      "source": "df.sort_values(by = ['Video views'], ascending = False).plot(x = 'Channel name', y = 'Video views')\nplt.xlabel('Ranking by video views')\nplt.ylabel('Number of video views')",
      "execution_count": null,
      "outputs": []
    },
    {
      "metadata": {
        "trusted": true,
        "_uuid": "4b8e6ce9248441497b34d9ddc683770496585a25"
      },
      "cell_type": "code",
      "source": "df.sort_values(by = ['Video Uploads'], ascending = False).plot(x = 'Channel name', y = 'Video Uploads')\nplt.xlabel('Ranking by video uploads')\nplt.ylabel('Number of video uploads')",
      "execution_count": null,
      "outputs": []
    },
    {
      "metadata": {
        "_uuid": "5ee175b1467785491700d80da3344aac7bc51bf8"
      },
      "cell_type": "markdown",
      "source": "**Analysing by channel grades**"
    },
    {
      "metadata": {
        "trusted": true,
        "_uuid": "623b4f5faf38f0a9fe6d2f49c6ba548c3beac119"
      },
      "cell_type": "code",
      "source": "grade_name = list(set(df['Grade']))\ngrade_name",
      "execution_count": null,
      "outputs": []
    },
    {
      "metadata": {
        "trusted": true,
        "_uuid": "b7f19ac56f6bcb99c3399b344c3aff5ddcbf2959"
      },
      "cell_type": "code",
      "source": "df_by_grade = df.set_index(df['Grade'])\n\ncount_grade = list()\nfor grade in grade_name:\n    count_grade.append(len(df_by_grade.loc[[grade]]))",
      "execution_count": null,
      "outputs": []
    },
    {
      "metadata": {
        "trusted": true,
        "_uuid": "b29a76adf0767823ebbd101e2ccefaf9b143806b"
      },
      "cell_type": "code",
      "source": "df_by_grade.head()",
      "execution_count": null,
      "outputs": []
    },
    {
      "metadata": {
        "trusted": true,
        "_uuid": "2a38f46d99cf2f3f9758fe6b04392764d077bec5"
      },
      "cell_type": "code",
      "source": "print(count_grade)\nprint(grade_name)",
      "execution_count": null,
      "outputs": []
    },
    {
      "metadata": {
        "trusted": true,
        "_uuid": "e18d866aa772730d1aa2cf44d9e9e99490561e2a"
      },
      "cell_type": "code",
      "source": "grade_name[2] = 'missing'",
      "execution_count": null,
      "outputs": []
    },
    {
      "metadata": {
        "trusted": true,
        "_uuid": "69c9ceb4de731849062d4cf931c2588b1613bedf"
      },
      "cell_type": "code",
      "source": "labels = grade_name\nsizes = count_grade\n\nexplode1 = (0.2, 0.2, 0.5, 0.2, 0.2, 0.2)\ncolor_list = ['green',  'red', 'gold', 'blue', 'lightskyblue', 'brown']\n\npatches, texts = plt.pie(sizes, colors = color_list, explode = explode1, \n                         shadow = False, startangle = 90, radius = 3)\nplt.legend(patches, labels, loc = \"best\")\nplt.axis('equal')\nplt.title('Classification of channels by grades')\nplt.show()",
      "execution_count": null,
      "outputs": []
    },
    {
      "metadata": {
        "trusted": true,
        "_uuid": "ac9c60b215cc4569a88ecc3c89bf577c7f42e26e"
      },
      "cell_type": "code",
      "source": "df.describe()",
      "execution_count": null,
      "outputs": []
    },
    {
      "metadata": {
        "trusted": true,
        "_uuid": "0f6eb7488019bc03098c77e52d7a03e02435f6a0"
      },
      "cell_type": "code",
      "source": "props = dict(boxes=\"gold\", whiskers=\"Black\", medians=\"Black\", caps=\"Black\")\ndf.plot.box(color=props, patch_artist=True)\nplt.yscale('log')\nplt.ylabel('Log count')",
      "execution_count": null,
      "outputs": []
    },
    {
      "metadata": {
        "_uuid": "49166826c78177078f08aeca239a4bd1971aa7d8"
      },
      "cell_type": "markdown",
      "source": "**Relation between variables**\n\nLooking at the plot below, it is seen that number of subscribers is positively correlated with the number of viewers. That is expected. But the number of subscribers is negativley correlated with the number of video uploaded by that channel. This might be surprising. The video channels attracting the larger number of viwers and subscribers are uploading smaller number of videos. \n\n"
    },
    {
      "metadata": {
        "trusted": true,
        "_uuid": "791edf687a5b901febf006b3182ec965d897163d"
      },
      "cell_type": "code",
      "source": "plt.subplots(figsize=(8, 5))\nsns.heatmap(df.corr(), cmap = 'RdGy')\nplt.title('Correlation Matrix Plot')",
      "execution_count": null,
      "outputs": []
    },
    {
      "metadata": {
        "_uuid": "9395c7e3f9b6a2f7216a1b9787b1b94f767db34f"
      },
      "cell_type": "markdown",
      "source": "The data contains non numeric values. So if the cleaned data is presented on the correlation scatter plot matrix the above mentioned conclusion about the correlation of three variables is more evident. "
    },
    {
      "metadata": {
        "trusted": true,
        "_uuid": "d003094bc91a0f1aa714475eebfabddd7cc3cc29"
      },
      "cell_type": "code",
      "source": "df_clean = df.dropna()",
      "execution_count": null,
      "outputs": []
    },
    {
      "metadata": {
        "trusted": true,
        "_uuid": "26005ec18a4ae5e6cf46e6365ce53e29d177658d"
      },
      "cell_type": "code",
      "source": "sns.pairplot(df_clean)",
      "execution_count": null,
      "outputs": []
    },
    {
      "metadata": {
        "_uuid": "8e6e6c6ebac55ac86d2b5d2707505840f93d58af"
      },
      "cell_type": "markdown",
      "source": "**Linear model**\n\nHere I tried to make a linear model based on the data. I am tring to predict the number of subscribers given the \nthe number of video uploaded and number of video viewed. First started with the linear relation between two variables. "
    },
    {
      "metadata": {
        "trusted": true,
        "_uuid": "8e17929856363914d40502c1c1e61d1ca90bbfb6"
      },
      "cell_type": "code",
      "source": "X = df_clean[['Video Uploads', 'Video views']]\nY = df_clean[['Subscribers']]",
      "execution_count": null,
      "outputs": []
    },
    {
      "metadata": {
        "_uuid": "36e0020838db400b79612911971ac94e87200c5a"
      },
      "cell_type": "markdown",
      "source": "20% of the data is randomly splitted for the testing purpose. "
    },
    {
      "metadata": {
        "trusted": true,
        "_uuid": "f7c8f7d05d988f5f4c39d14b02519099fc89bfe1"
      },
      "cell_type": "code",
      "source": "X_train, X_test, y_train, y_test = train_test_split(X, Y, test_size = 0.2)",
      "execution_count": null,
      "outputs": []
    },
    {
      "metadata": {
        "trusted": true,
        "scrolled": true,
        "_uuid": "cb1a3f2340d6667f65cbeeac635c430806be08f0"
      },
      "cell_type": "code",
      "source": "lm = LinearRegression()\nlm.fit(X_train.dropna(),y_train.dropna())",
      "execution_count": null,
      "outputs": []
    },
    {
      "metadata": {
        "trusted": true,
        "_uuid": "894c8a7d670bf36810917ee2b7c114ace2906a18"
      },
      "cell_type": "code",
      "source": "predictions = lm.predict(X_test)",
      "execution_count": null,
      "outputs": []
    },
    {
      "metadata": {
        "_uuid": "9ca0ef36256cbe942d58fd2b4a1f8272373fb2a0"
      },
      "cell_type": "markdown",
      "source": "It is seen that there is already good correlation between the predicted value of the number of subscribers and the observed number of them in the test set. So the model is working satisfactorily for the data it never seen in the training. "
    },
    {
      "metadata": {
        "trusted": true,
        "_uuid": "98af962088ee07c5bb850b33168eb2b624cc2e17"
      },
      "cell_type": "code",
      "source": "plt.scatter(y_test,predictions, color = 'red')\nplt.xlabel('Y in test set')\nplt.ylabel('Predicted Y')",
      "execution_count": null,
      "outputs": []
    },
    {
      "metadata": {
        "trusted": true,
        "_uuid": "2b4c59485d303940c843a1060a77df0f4c454775"
      },
      "cell_type": "code",
      "source": "sns.residplot(y_test, predictions,  color=\"g\")\nplt.ylabel('d')\nplt.xlabel('instances')\nplt.title('standardized residual plot')",
      "execution_count": null,
      "outputs": []
    },
    {
      "metadata": {
        "trusted": true,
        "_uuid": "15d14b84bf73e749a6a51cb42a89113a848fab45"
      },
      "cell_type": "code",
      "source": "print('MAE:', metrics.mean_absolute_error(y_test, predictions))\nprint('MSE:', metrics.mean_squared_error(y_test, predictions))\nprint('RMSE:', np.sqrt(metrics.mean_squared_error(y_test, predictions)))",
      "execution_count": null,
      "outputs": []
    },
    {
      "metadata": {
        "trusted": true,
        "_uuid": "5d95541d96093214c3b1c55db8d35f7338bd0389"
      },
      "cell_type": "code",
      "source": "coefficients = pd.DataFrame(X.columns)\ncoefficients['coefficients']=lm.coef_[0]\ncoefficients",
      "execution_count": null,
      "outputs": []
    },
    {
      "metadata": {
        "trusted": true,
        "_uuid": "06e6d48d3a8157abe14fc18fb3547f113dfb4fd4"
      },
      "cell_type": "code",
      "source": "model = sm.OLS(Y, X).fit() \npredictions = model.predict(X_test)",
      "execution_count": null,
      "outputs": []
    },
    {
      "metadata": {
        "trusted": true,
        "_uuid": "63cc12ca160ccd876625b1d268cf22ecac74acbf"
      },
      "cell_type": "code",
      "source": "model.summary()",
      "execution_count": null,
      "outputs": []
    },
    {
      "metadata": {
        "_uuid": "95f6926ad55c2d1c363392404501dc84ee1d10fa"
      },
      "cell_type": "markdown",
      "source": "**Working over the skewness of the data**\n\nForm the following three histogram, we can see that all three variables are highly positively skewed. "
    },
    {
      "metadata": {
        "trusted": true,
        "_uuid": "93e0e7124360f4af97a23eafa7457d12a34bed22"
      },
      "cell_type": "code",
      "source": "df['Subscribers'].hist(bins = 200)\nplt.xlabel('Number of subscribers')\nplt.ylabel('Number of channels')",
      "execution_count": null,
      "outputs": []
    },
    {
      "metadata": {
        "trusted": true,
        "_uuid": "0aa3b96296246fb5f539bb77b50c320bcac90b64"
      },
      "cell_type": "code",
      "source": "df['Video views'].hist(bins = 200)\nplt.xlabel('Number of video views')\nplt.ylabel('Number of channels')",
      "execution_count": null,
      "outputs": []
    },
    {
      "metadata": {
        "trusted": true,
        "_uuid": "bd7bad26dee433d9dea23f11233394b7e8e51a8c"
      },
      "cell_type": "code",
      "source": "df['Video Uploads'].hist(bins = 200)\nplt.xlabel('Number of video uploads')\nplt.ylabel('Number of channels')",
      "execution_count": null,
      "outputs": []
    },
    {
      "metadata": {
        "_uuid": "65524eab09bc634361682b1dcd7fb707d8c52f70"
      },
      "cell_type": "markdown",
      "source": "**Log transformation**\n\nIn view of the positive skewness of the data, simple log transformation could be a good choice to deal with."
    },
    {
      "metadata": {
        "trusted": true,
        "_uuid": "0bea4fa7d65c76584c5766eca2655b767d88d1be"
      },
      "cell_type": "code",
      "source": "np.log(df['Subscribers']).hist(bins = 20)\nplt.xlabel('Log of number of subscribers')\nplt.ylabel('Number of channels')",
      "execution_count": null,
      "outputs": []
    },
    {
      "metadata": {
        "trusted": true,
        "_uuid": "575d9f66cab21d76e77135ff6b6fe6e12be316d5"
      },
      "cell_type": "code",
      "source": "np.log(df['Video views']).hist(bins = 20)\nplt.xlabel('Log of number of video views')\nplt.ylabel('Number of channels')",
      "execution_count": null,
      "outputs": []
    },
    {
      "metadata": {
        "trusted": true,
        "scrolled": true,
        "_uuid": "bab3cabd3b813df629b0f046e60eab7df3fae8ab"
      },
      "cell_type": "code",
      "source": "np.log(df['Video Uploads']).hist(bins= 20)\nplt.xlabel('Log of number of video uploads')\nplt.ylabel('Number of channels')",
      "execution_count": null,
      "outputs": []
    },
    {
      "metadata": {
        "trusted": true,
        "_uuid": "4109c8a6b49ac5b0188517650552ef4f9661b8b1"
      },
      "cell_type": "code",
      "source": "df_log = pd.DataFrame()\ndf_log['Video_uploads_log'] = np.log(df_clean['Video Uploads'])\ndf_log['Video_views_log'] = np.log(df_clean['Video views'])\ndf_log['Subscribers_log'] = np.log(df_clean['Subscribers'])",
      "execution_count": null,
      "outputs": []
    },
    {
      "metadata": {
        "trusted": true,
        "_uuid": "b0c731d1311b1352c59b88b6143e7147bd9aeaa1"
      },
      "cell_type": "code",
      "source": "df_log.head()",
      "execution_count": null,
      "outputs": []
    },
    {
      "metadata": {
        "trusted": true,
        "_uuid": "9aadcfb3b06278b0108074f7dd3ec748b159325e"
      },
      "cell_type": "code",
      "source": "df_log.tail()",
      "execution_count": null,
      "outputs": []
    },
    {
      "metadata": {
        "_uuid": "12404ab3c2ed81c5b72da5428c54dce2449511bf"
      },
      "cell_type": "markdown",
      "source": "**Study of correlation with log transformation**"
    },
    {
      "metadata": {
        "trusted": true,
        "_uuid": "84cd574744de9ab5f416c6657be84956768fe9b5"
      },
      "cell_type": "code",
      "source": "plt.subplots(figsize=(8, 5))\nsns.heatmap(df_log.corr(), cmap = 'RdGy')",
      "execution_count": null,
      "outputs": []
    },
    {
      "metadata": {
        "_uuid": "765c5471c08e66258c9d18ca25f78511a8822f5f"
      },
      "cell_type": "markdown",
      "source": "From the above correlation plot the correlation coefficient of the variables have not been changed after the log transformation. At least the positive correlation remains the positive and vice versa. \n\nBut if we look at the scatter plot below, visually the negative correlation between video uploads and subscribers seem to have gone. This is the effect of log transformation which is not to be confued thinking they have positive correlations."
    },
    {
      "metadata": {
        "trusted": true,
        "_uuid": "12ba5cd4ff0a77645f2f3b6ff48c19a80e2eee8b"
      },
      "cell_type": "code",
      "source": "sns.pairplot(df_log)",
      "execution_count": null,
      "outputs": []
    },
    {
      "metadata": {
        "_uuid": "b2c5a9bfe5ef42e12e67fa79e311b5a763a2a377"
      },
      "cell_type": "markdown",
      "source": "**Linear model with log transformation**"
    },
    {
      "metadata": {
        "trusted": true,
        "_uuid": "85bfb4e92c84f535379e67dfb7cc0fc8a25ccd28"
      },
      "cell_type": "code",
      "source": "X2 = df_log[['Video_uploads_log', 'Video_views_log']]\nY2 = df_log[['Subscribers_log']]",
      "execution_count": null,
      "outputs": []
    },
    {
      "metadata": {
        "trusted": true,
        "_uuid": "1ba259780ed3c165edd66c1902dacb88286507fa"
      },
      "cell_type": "code",
      "source": "X2_train, X2_test, y2_train, y2_test = train_test_split(X2, Y2, test_size = 0.2)",
      "execution_count": null,
      "outputs": []
    },
    {
      "metadata": {
        "trusted": true,
        "_uuid": "264b261a9a8036b5a03c7d1b63643d1d82de38c0"
      },
      "cell_type": "code",
      "source": "lm2 = LinearRegression()\nlm2.fit(X2_train.dropna(),y2_train.dropna())",
      "execution_count": null,
      "outputs": []
    },
    {
      "metadata": {
        "trusted": true,
        "_uuid": "ab29bc13bb45477191c7e029f3b91d7d89d743f5"
      },
      "cell_type": "code",
      "source": "predictions2 = lm2.predict(X2_test)",
      "execution_count": null,
      "outputs": []
    },
    {
      "metadata": {
        "trusted": true,
        "_uuid": "e7dd2676ce7c8f004bfa59d4d43a74fac0c781ed"
      },
      "cell_type": "code",
      "source": "plt.scatter(y2_test,predictions2, color = 'red')\nplt.xlabel('Y in test set')\nplt.ylabel('Predicted Y')",
      "execution_count": null,
      "outputs": []
    },
    {
      "metadata": {
        "trusted": true,
        "_uuid": "7aa80a9c121eb56ca7e97e259a24b52098c57902"
      },
      "cell_type": "code",
      "source": "sns.residplot(y2_test, predictions2,  color=\"g\")\nplt.ylabel('d')\nplt.xlabel('instances')\nplt.title('standardized residual plot')",
      "execution_count": null,
      "outputs": []
    },
    {
      "metadata": {
        "trusted": true,
        "_uuid": "a50e8b4709fbe28f899e617cf3f94537600a95c7"
      },
      "cell_type": "code",
      "source": "print('MAE:', metrics.mean_absolute_error(y2_test, predictions2))\nprint('MSE:', metrics.mean_squared_error(y2_test, predictions2))\nprint('RMSE:', np.sqrt(metrics.mean_squared_error(y2_test, predictions2)))",
      "execution_count": null,
      "outputs": []
    },
    {
      "metadata": {
        "trusted": true,
        "_uuid": "148c9974a7efa9f4319a7e1a0bf612d494de1c23"
      },
      "cell_type": "code",
      "source": "coefficients2 = pd.DataFrame(X2.columns)\ncoefficients2['coefficients']=lm2.coef_[0]\ncoefficients2",
      "execution_count": null,
      "outputs": []
    },
    {
      "metadata": {
        "trusted": true,
        "_uuid": "71c872743a299e464fc15a8ee87f286abe13850a"
      },
      "cell_type": "code",
      "source": "model2 = sm.OLS(Y2, X2).fit() \npredictions2 = model2.predict(X2_test)",
      "execution_count": null,
      "outputs": []
    },
    {
      "metadata": {
        "trusted": true,
        "_uuid": "cf699bd70de813ba0cd12b33f57f15fb6c688f62"
      },
      "cell_type": "code",
      "source": "model2.summary()",
      "execution_count": null,
      "outputs": []
    },
    {
      "metadata": {
        "trusted": true,
        "_uuid": "4f94da1084ddcc690a4bdf993562069e6a002905"
      },
      "cell_type": "markdown",
      "source": "**Comparing the result with and without log transformation**\n\nWithout using log: \n\nY = a X_1  + b X_2 + c \n\nWith log \n\nln(Y) = p ln(X_1) + q ln(X_2) + r\n\nFrom the later \n\nY = exp( p .... ) = X_1 ^ p + X_2 ^ q + e^r "
    },
    {
      "metadata": {
        "_uuid": "ba73f1283e06e03319c8507a46381a5ed7e40f22"
      },
      "cell_type": "markdown",
      "source": "In the following, the prediction made by the log transformation is compared with the one done directly.  The relation is mentioned in above shell."
    },
    {
      "metadata": {
        "trusted": true,
        "_uuid": "46529aaab35e5db615eb29a5d1d1359f9b7e44c1"
      },
      "cell_type": "code",
      "source": "p = coefficients2['coefficients'][0]\nq = coefficients2['coefficients'][1]",
      "execution_count": null,
      "outputs": []
    },
    {
      "metadata": {
        "trusted": true,
        "_uuid": "69b9ef396478c36396d099026e276043134990f5"
      },
      "cell_type": "code",
      "source": "def pred_from_log(x, y):\n    return x ** p + y ** q",
      "execution_count": null,
      "outputs": []
    },
    {
      "metadata": {
        "trusted": true,
        "_uuid": "22dde83a4a61e236b10baf171ca4f1a8d798510c"
      },
      "cell_type": "code",
      "source": "X_test.head()",
      "execution_count": null,
      "outputs": []
    },
    {
      "metadata": {
        "trusted": true,
        "_uuid": "52277360814d92ac1442af720836895fd1580ff4"
      },
      "cell_type": "code",
      "source": "vid_upl_test = np.array(X_test['Video Uploads'])\nvid_viw_test = np.array(X_test['Video views'])",
      "execution_count": null,
      "outputs": []
    },
    {
      "metadata": {
        "trusted": true,
        "_uuid": "058288d84ecd2812dc20d45cf3521e73b311c752"
      },
      "cell_type": "code",
      "source": "prediction_log = pred_from_log(vid_upl_test, vid_viw_test)",
      "execution_count": null,
      "outputs": []
    },
    {
      "metadata": {
        "_uuid": "184774ba76a73c09a975ea1120258cbc9717d381"
      },
      "cell_type": "markdown",
      "source": "It is nice that both predictions are highly correleted."
    },
    {
      "metadata": {
        "trusted": true,
        "_uuid": "5dc5b8a15bb1354d8689135fb423ef2a70054c98"
      },
      "cell_type": "code",
      "source": "plt.scatter(predictions, prediction_log, color = 'r', alpha = 0.5)\nplt.xlabel('prediction without log transformation')\nplt.ylabel('prediction with log transformation')",
      "execution_count": null,
      "outputs": []
    },
    {
      "metadata": {
        "_uuid": "f9be7cd66a33841e54667f93b12329f9d0a1d597"
      },
      "cell_type": "markdown",
      "source": "The direct plot of the difference shows that log transformation tend to predict higher value than that without log if anything. There is no way it can predict lower though. "
    },
    {
      "metadata": {
        "trusted": true,
        "_uuid": "4ca702b2daddc7796e865fd1077d25c3598d7d07"
      },
      "cell_type": "code",
      "source": "plt.scatter(range(len(X_test)), predictions - prediction_log, color = 'red', alpha = 0.5)\nplt.xlabel('count of test data')\nplt.ylabel('difference of prediction with and without log')",
      "execution_count": null,
      "outputs": []
    },
    {
      "metadata": {
        "_uuid": "5e49226106c3c1a77cd5710cd95955c5963be280"
      },
      "cell_type": "markdown",
      "source": "**Conclusion**\n\nConclusion of the study is the following:\n* The number of subscribers is proportional to the number of views. \n* The number of subscribers in negatively correlated witht the number of video uploads by the channel. \n* Linear model was tested for prediction of number of subscriber as a function of number of video uploads and number of video views.\n*  Log transformation on the linear model gives the one sided biased prediction in comparison to the one without such transformation. \n"
    },
    {
      "metadata": {
        "trusted": true,
        "_uuid": "9893a97f5223a7ac31a6af17c2496994025eb733"
      },
      "cell_type": "code",
      "source": "",
      "execution_count": null,
      "outputs": []
    },
    {
      "metadata": {
        "trusted": true,
        "_uuid": "e2c2328f1cb40edd216769024faacd9c2bef7a7e"
      },
      "cell_type": "code",
      "source": "",
      "execution_count": null,
      "outputs": []
    }
  ],
  "metadata": {
    "kernelspec": {
      "display_name": "Python 3",
      "language": "python",
      "name": "python3"
    },
    "language_info": {
      "name": "python",
      "version": "3.6.6",
      "mimetype": "text/x-python",
      "codemirror_mode": {
        "name": "ipython",
        "version": 3
      },
      "pygments_lexer": "ipython3",
      "nbconvert_exporter": "python",
      "file_extension": ".py"
    }
  },
  "nbformat": 4,
  "nbformat_minor": 1
}